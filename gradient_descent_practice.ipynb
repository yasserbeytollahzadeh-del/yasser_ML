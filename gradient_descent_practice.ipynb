{
 "cells": [
  {
   "cell_type": "code",
   "execution_count": 2,
   "id": "0e79671e",
   "metadata": {},
   "outputs": [],
   "source": [
    "import numpy as np\n",
    "import pandas as pd\n",
    "import matplotlib as plt"
   ]
  },
  {
   "cell_type": "code",
   "execution_count": 3,
   "id": "4654a706",
   "metadata": {},
   "outputs": [
    {
     "data": {
      "text/plain": [
       "array([[1. , 2. ],\n",
       "       [1. , 2.5],\n",
       "       [1. , 5. ],\n",
       "       [1. , 6. ]])"
      ]
     },
     "execution_count": 3,
     "metadata": {},
     "output_type": "execute_result"
    }
   ],
   "source": [
    "x=np.array([[2],[2.5],[5],[6]])\n",
    "ones=np.ones((x.shape[0],1))\n",
    "x_aug=np.concatenate((ones,x),axis=1)\n",
    "x_aug"
   ]
  },
  {
   "cell_type": "code",
   "execution_count": 4,
   "id": "85280b2f",
   "metadata": {},
   "outputs": [],
   "source": [
    "y=np.array([4,4.1,9.5,13])"
   ]
  },
  {
   "cell_type": "markdown",
   "id": "d0ebb6b7",
   "metadata": {},
   "source": [
    "روش تقریبی"
   ]
  },
  {
   "cell_type": "markdown",
   "id": "bea0abae",
   "metadata": {},
   "source": [
    "$\\theta_{\\text{جدید}} = \\theta_{\\text{قدیمی}} - \\eta \\cdot \\nabla J(\\theta)$"
   ]
  },
  {
   "cell_type": "markdown",
   "id": "d9b3e0a6",
   "metadata": {},
   "source": [
    "$\\theta_{\\text{جدید}} = \\theta_{\\text{قدیم}} - \\eta \\cdot \\frac{1}{m} X^T (X \\theta - Y)$"
   ]
  },
  {
   "cell_type": "code",
   "execution_count": 5,
   "id": "11bc1586",
   "metadata": {},
   "outputs": [],
   "source": [
    "def lr_predict(X,W):\n",
    "    return np.dot(X,W)\n",
    "\n",
    "def mse_loss(y_hat,y):\n",
    "    error = y_hat-y\n",
    "    return np.sum(error*error) / error.shape[0]\n",
    "\n",
    "def calc_gradient(X,error):\n",
    "    gradient=np.dot(X.T,error)\n",
    "    return gradient \n",
    "\n",
    "def update_weights(W,lr,gradient):\n",
    "    new_weights=W-lr*gradient\n",
    "    return new_weights\n"
   ]
  },
  {
   "cell_type": "code",
   "execution_count": 6,
   "id": "ea7c4d39",
   "metadata": {},
   "outputs": [],
   "source": [
    "def train_lr_bgd(X,Y,W,n_epochs,lr):\n",
    "    losses=[]\n",
    "\n",
    "    for i in range(n_epochs):\n",
    "        preds=lr_predict(X,W)\n",
    "        error=preds-Y\n",
    "        loss=mse_loss(preds,Y)\n",
    "        losses.append(loss)\n",
    "\n",
    "        gradient=calc_gradient(X,error)\n",
    "        W=update_weights(W,lr,gradient)\n",
    "\n",
    "    return W,losses"
   ]
  },
  {
   "cell_type": "code",
   "execution_count": 7,
   "id": "c5248952",
   "metadata": {},
   "outputs": [],
   "source": [
    "x=np.array([[2],[2.5],[5],[6]])\n",
    "ones=np.ones((x.shape[0],1))\n",
    "x_aug=np.concatenate((ones,x),axis=1)\n",
    "\n",
    "y=np.array([4,4.1,9.5,13])"
   ]
  },
  {
   "cell_type": "code",
   "execution_count": 8,
   "id": "b7010be7",
   "metadata": {},
   "outputs": [
    {
     "data": {
      "text/plain": [
       "np.float64(0.520125025065627)"
      ]
     },
     "execution_count": 8,
     "metadata": {},
     "output_type": "execute_result"
    }
   ],
   "source": [
    "lr=0.0004\n",
    "n_epochs=1000\n",
    "\n",
    "W0 = np.random.rand(2)\n",
    "\n",
    "\n",
    "W,losses=train_lr_bgd(x_aug,y,W0,n_epochs,lr)\n",
    "\n",
    "losses[-1]"
   ]
  },
  {
   "cell_type": "markdown",
   "id": "dd7fdb0b",
   "metadata": {},
   "source": [
    " روش تحلیلی"
   ]
  },
  {
   "cell_type": "markdown",
   "id": "94b6605a",
   "metadata": {},
   "source": [
    "$W = (X^T X)^{-1} X^T y$"
   ]
  },
  {
   "cell_type": "code",
   "execution_count": 9,
   "id": "e23a903c",
   "metadata": {},
   "outputs": [
    {
     "data": {
      "text/plain": [
       "np.float64(0.3298044692737432)"
      ]
     },
     "execution_count": 9,
     "metadata": {},
     "output_type": "execute_result"
    }
   ],
   "source": [
    "from numpy import linalg\n",
    "m=linalg.inv(x_aug.T@x_aug)\n",
    "W=m@x_aug.T@y\n",
    "\n",
    "preds=lr_predict(x_aug,W)\n",
    "mse_loss(preds,y)"
   ]
  },
  {
   "cell_type": "markdown",
   "id": "48035056",
   "metadata": {},
   "source": [
    "# گرادیان کاهشی تصادفی (Stochastic Gradient Descent - SGD)"
   ]
  },
  {
   "cell_type": "code",
   "execution_count": 10,
   "id": "8d8fc4d8",
   "metadata": {},
   "outputs": [],
   "source": [
    "def learning_schedule(t, a=5, b=1000):\n",
    "    return a/(t+b)\n",
    "def train_Sgd(X,Y,W,n_epochs):\n",
    "    losses=[]\n",
    "    m=x.shape[0]\n",
    "    for epoch in range(n_epochs):\n",
    "        for iteration in range (m):\n",
    "            Random_index=np.random.randint(m)\n",
    "            xi=X[Random_index:Random_index+1]\n",
    "            yi=Y[Random_index:Random_index+1]\n",
    "            preds=lr_predict(xi,W)\n",
    "            error=preds-yi\n",
    "            loss=mse_loss(preds,yi)\n",
    "            losses.append(loss)\n",
    "            lr=learning_schedule(m*epoch+iteration)\n",
    "            gradient=calc_gradient(xi,error)\n",
    "            W=update_weights(W,lr,gradient)\n",
    "\n",
    "    return W,losses\n",
    "            "
   ]
  },
  {
   "cell_type": "code",
   "execution_count": 11,
   "id": "d20dfa6e",
   "metadata": {},
   "outputs": [
    {
     "data": {
      "text/plain": [
       "np.float64(0.4988086126613874)"
      ]
     },
     "execution_count": 11,
     "metadata": {},
     "output_type": "execute_result"
    }
   ],
   "source": [
    "n_epochs=1000\n",
    "W0=np.random.rand(2)\n",
    "W,losses=train_Sgd(x_aug,y,W0,n_epochs)\n",
    "\n",
    "losses[-1]"
   ]
  },
  {
   "cell_type": "code",
   "execution_count": 12,
   "id": "208967ed",
   "metadata": {},
   "outputs": [
    {
     "data": {
      "text/plain": [
       "array([ 0,  4, 25])"
      ]
     },
     "execution_count": 12,
     "metadata": {},
     "output_type": "execute_result"
    }
   ],
   "source": [
    "q=np.array([0,4,25])\n",
    "q"
   ]
  },
  {
   "cell_type": "markdown",
   "id": "0f51786c",
   "metadata": {},
   "source": [
    "# گرادیان کاهشی دسته‌ای کوچک (Mini-Batch Gradient Descent)"
   ]
  },
  {
   "cell_type": "code",
   "execution_count": 16,
   "id": "7350d6b1",
   "metadata": {},
   "outputs": [],
   "source": [
    "def train_mgd(X,Y,W,n_epochs,batch_size):\n",
    "    losses=[]\n",
    "    m=X.shape[0]\n",
    "    for epoch in range(n_epochs):\n",
    "        shuffled_indices=np.random.permutation(m)\n",
    "        x_shuffled=X[shuffled_indices]\n",
    "        y_shuffled=Y[shuffled_indices]\n",
    "        for Idx in range(0,m,batch_size):\n",
    "            xi=x_shuffled[Idx:Idx+batch_size]\n",
    "            yi=y_shuffled[Idx:Idx+batch_size]\n",
    "\n",
    "            predictions=lr_predict(xi,W)\n",
    "            error=predictions-yi\n",
    "            loss=mse_loss(predictions,yi)\n",
    "            losses.append(loss)\n",
    "\n",
    "            lr=learning_schedule(epoch+Idx)\n",
    "            gradient=calc_gradient(xi,error)\n",
    "            W=update_weights(W,lr,gradient)\n",
    "    return W,losses"
   ]
  },
  {
   "cell_type": "code",
   "execution_count": 17,
   "id": "23c09c68",
   "metadata": {},
   "outputs": [
    {
     "data": {
      "text/plain": [
       "np.float64(0.3298047156709917)"
      ]
     },
     "execution_count": 17,
     "metadata": {},
     "output_type": "execute_result"
    }
   ],
   "source": [
    "batch_size=25\n",
    "m=101\n",
    "n_epochs=10000\n",
    "W0=np.random.rand(2)\n",
    "W,losses=train_mgd(x_aug,y,W0,n_epochs,batch_size)\n",
    "\n",
    "losses[-1]"
   ]
  }
 ],
 "metadata": {
  "kernelspec": {
   "display_name": "Python 3",
   "language": "python",
   "name": "python3"
  },
  "language_info": {
   "codemirror_mode": {
    "name": "ipython",
    "version": 3
   },
   "file_extension": ".py",
   "mimetype": "text/x-python",
   "name": "python",
   "nbconvert_exporter": "python",
   "pygments_lexer": "ipython3",
   "version": "3.11.5"
  }
 },
 "nbformat": 4,
 "nbformat_minor": 5
}
